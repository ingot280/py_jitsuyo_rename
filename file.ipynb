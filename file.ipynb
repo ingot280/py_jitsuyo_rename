{
 "cells": [
  {
   "cell_type": "code",
   "execution_count": null,
   "id": "d360bbb7",
   "metadata": {},
   "outputs": [
    {
     "ename": "AttributeError",
     "evalue": "module 'posixpath' has no attribute 'exist'",
     "output_type": "error",
     "traceback": [
      "\u001b[0;31m---------------------------------------------------------------------------\u001b[0m",
      "\u001b[0;31mAttributeError\u001b[0m                            Traceback (most recent call last)",
      "\u001b[0;32m/var/folders/dc/_tjx64fn255dthmtmrpn5jyr0000gp/T/ipykernel_58223/4146405472.py\u001b[0m in \u001b[0;36m<module>\u001b[0;34m\u001b[0m\n\u001b[1;32m     11\u001b[0m \u001b[0mos\u001b[0m\u001b[0;34m.\u001b[0m\u001b[0mrename\u001b[0m\u001b[0;34m(\u001b[0m\u001b[0mfile_path\u001b[0m\u001b[0;34m,\u001b[0m\u001b[0;34mf'memo/{new_file_name}'\u001b[0m\u001b[0;34m)\u001b[0m\u001b[0;34m\u001b[0m\u001b[0m\n\u001b[1;32m     12\u001b[0m \u001b[0mnew_dir\u001b[0m\u001b[0;34m=\u001b[0m\u001b[0;34mf'intervies/{year}年/{month}月'\u001b[0m\u001b[0;34m\u001b[0m\u001b[0m\n\u001b[0;32m---> 13\u001b[0;31m \u001b[0;32mif\u001b[0m \u001b[0;32mnot\u001b[0m \u001b[0mos\u001b[0m\u001b[0;34m.\u001b[0m\u001b[0mpath\u001b[0m\u001b[0;34m.\u001b[0m\u001b[0mexist\u001b[0m\u001b[0;34m(\u001b[0m\u001b[0mnew_dir\u001b[0m\u001b[0;34m)\u001b[0m\u001b[0;34m:\u001b[0m\u001b[0;34m\u001b[0m\u001b[0m\n\u001b[0m\u001b[1;32m     14\u001b[0m     \u001b[0mos\u001b[0m\u001b[0;34m.\u001b[0m\u001b[0mmakedirs\u001b[0m\u001b[0;34m(\u001b[0m\u001b[0mnew_dir\u001b[0m\u001b[0;34m)\u001b[0m\u001b[0;34m\u001b[0m\u001b[0m\n\u001b[1;32m     15\u001b[0m \u001b[0mdest\u001b[0m \u001b[0;34m=\u001b[0m \u001b[0;34mf'interview/{year}年/{month}月/{new_file_name}'\u001b[0m\u001b[0;34m\u001b[0m\u001b[0m\n",
      "\u001b[0;31mAttributeError\u001b[0m: module 'posixpath' has no attribute 'exist'"
     ]
    }
   ],
   "source": [
    "import os\n",
    "file_path = \"memo/ユージ.txt\"\n",
    "stat = os.stat(file_path)\n",
    "createdtime = stat.st_ctime\n",
    "from datetime import datetime\n",
    "createdtime=datetime.fromtimestamp(createdtime)\n",
    "year,month,day = createdtime.year,createdtime.month,createdtime.day\n",
    "file_path.split('/')[1]\n",
    "file_name=file_path.split('/')[1]\n",
    "new_file_name=f'{year}年{month}月{day}日_{file_name}'\n",
    "os.rename(file_path,f'memo/{new_file_name}')\n",
    "new_dir=f'intervies/{year}年/{month}月'\n",
    "if not os.path.exist(new_dir):\n",
    "    os.makedirs(new_dir)\n",
    "dest = f'interview/{year}年/{month}月/{new_file_name}'"
   ]
  },
  {
   "cell_type": "code",
   "execution_count": 17,
   "id": "7adfd1d2",
   "metadata": {},
   "outputs": [
    {
     "data": {
      "text/plain": [
       "['file.ipynb', 'memo (2).zip', 'interview', 'memo', 'venv']"
      ]
     },
     "execution_count": 17,
     "metadata": {},
     "output_type": "execute_result"
    }
   ],
   "source": [
    "from glob import glob\n",
    "glob('*')"
   ]
  },
  {
   "cell_type": "code",
   "execution_count": 18,
   "id": "c8a14e0b",
   "metadata": {},
   "outputs": [
    {
     "name": "stdout",
     "output_type": "stream",
     "text": [
      "['memo/松嶋菜々子.txt', 'memo/平手友梨奈.txt', 'memo/清原果耶.txt', 'memo/福原遥.txt', 'memo/IKKO.txt']\n"
     ]
    }
   ],
   "source": [
    "file_paths = glob('memo/*.txt')\n",
    "print(file_paths[:5])"
   ]
  },
  {
   "cell_type": "code",
   "execution_count": null,
   "id": "96253acc",
   "metadata": {},
   "outputs": [],
   "source": [
    "file_path=file_paths[0]"
   ]
  },
  {
   "cell_type": "code",
   "execution_count": 23,
   "id": "ce0e8c30",
   "metadata": {},
   "outputs": [],
   "source": [
    "import os\n",
    "from glob import glob\n",
    "file_paths=glob('memo/*.txt')\n",
    "for _ in file_paths:\n",
    "    file_path = _\n",
    "    stat = os.stat(file_path)\n",
    "    createdtime = stat.st_ctime\n",
    "    from datetime import datetime\n",
    "    createdtime=datetime.fromtimestamp(createdtime)\n",
    "    year,month,day = createdtime.year,createdtime.month,createdtime.day\n",
    "    file_path.split('/')[1]\n",
    "    file_name=file_path.split('/')[1]\n",
    "    new_file_name=f'{year}年{month}月{day}日_{file_name}'\n",
    "    os.rename(file_path,f'memo/{new_file_name}')\n",
    "    new_dir=f'intervies/{year}年/{month}月'\n",
    "    if not os.path.exists(new_dir):\n",
    "        os.makedirs(new_dir)\n",
    "    dest = f'interview/{year}年/{month}月/{new_file_name}'"
   ]
  },
  {
   "cell_type": "code",
   "execution_count": 24,
   "id": "9a87d33c",
   "metadata": {},
   "outputs": [],
   "source": [
    "import os\n",
    "from glob import glob\n",
    "rename_filepath=glob('memo/*.txt')\n",
    "for _ in rename_filepath:\n",
    "    rPath=_.split('_')\n",
    "    os.rename(_,f'memo/{rPath[1]}')"
   ]
  }
 ],
 "metadata": {
  "kernelspec": {
   "display_name": "venv",
   "language": "python",
   "name": "python3"
  },
  "language_info": {
   "codemirror_mode": {
    "name": "ipython",
    "version": 3
   },
   "file_extension": ".py",
   "mimetype": "text/x-python",
   "name": "python",
   "nbconvert_exporter": "python",
   "pygments_lexer": "ipython3",
   "version": "3.7.0"
  }
 },
 "nbformat": 4,
 "nbformat_minor": 5
}
